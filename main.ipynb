{
 "cells": [
  {
   "cell_type": "code",
   "execution_count": 57,
   "metadata": {},
   "outputs": [],
   "source": [
    "import pandas as pd\n",
    "import numpy as np\n",
    "import matplotlib as plt"
   ]
  },
  {
   "cell_type": "code",
   "execution_count": 4,
   "metadata": {},
   "outputs": [],
   "source": [
    "df = pd.read_csv(\"Gandum.csv\", names = [\"1.id\", \"2.Daerah\", \"3.SumbuUtama\", \"4.SumbuKecil\", \"5.Keunikan\", \"6.AreaBulatan\", \"7.Diameter\", \"8.KadarAir\", \"9.Keliling\", \"10.Bulatan\", \"11.Ransum\", \"12.Kelas\"])"
   ]
  },
  {
   "cell_type": "code",
   "execution_count": 6,
   "metadata": {},
   "outputs": [
    {
     "output_type": "execute_result",
     "data": {
      "text/plain": [
       "             1.id     2.Daerah  3.SumbuUtama  4.SumbuKecil  5.Keunikan  \\\n",
       "count  500.000000   500.000000    500.000000    500.000000  500.000000   \n",
       "mean   250.500000  4801.246000    116.045171     53.715246    0.878764   \n",
       "std    144.481833   986.395491     18.282626      4.071075    0.036586   \n",
       "min      1.000000  2522.000000     74.133114     39.906517    0.719916   \n",
       "25%    125.750000  4042.750000    104.116098     51.193576    0.863676   \n",
       "50%    250.500000  4735.000000    115.405140     53.731199    0.890045   \n",
       "75%    375.250000  5495.500000    129.046792     56.325158    0.907578   \n",
       "max    500.000000  7453.000000    227.928583     68.977700    0.914001   \n",
       "\n",
       "       6.AreaBulatan  7.Diameter  8.KadarAir  9.Keliling  10.Bulatan  \\\n",
       "count     500.000000  500.000000  500.000000  500.000000  500.000000   \n",
       "mean     4937.048000   77.771158    0.648372  281.479722    0.761737   \n",
       "std      1011.696255    8.056867    0.094367   37.335402    0.061702   \n",
       "min      2579.000000   56.666658    0.409927  197.015000    0.174590   \n",
       "25%      4170.250000   71.745308    0.572632  255.883000    0.731991   \n",
       "50%      4857.000000   77.645277    0.626117  280.045500    0.761288   \n",
       "75%      5654.250000   83.648598    0.726633  306.062500    0.796361   \n",
       "max      7720.000000   97.413830    0.878899  488.837000    0.904748   \n",
       "\n",
       "        11.Ransum    12.Kelas  \n",
       "count  500.000000  500.000000  \n",
       "mean     2.150915    1.502000  \n",
       "std      0.249767    0.500497  \n",
       "min      1.440796    1.000000  \n",
       "25%      1.983939    1.000000  \n",
       "50%      2.193599    2.000000  \n",
       "75%      2.381612    2.000000  \n",
       "max      2.464809    2.000000  "
      ],
      "text/html": "<div>\n<style scoped>\n    .dataframe tbody tr th:only-of-type {\n        vertical-align: middle;\n    }\n\n    .dataframe tbody tr th {\n        vertical-align: top;\n    }\n\n    .dataframe thead th {\n        text-align: right;\n    }\n</style>\n<table border=\"1\" class=\"dataframe\">\n  <thead>\n    <tr style=\"text-align: right;\">\n      <th></th>\n      <th>1.id</th>\n      <th>2.Daerah</th>\n      <th>3.SumbuUtama</th>\n      <th>4.SumbuKecil</th>\n      <th>5.Keunikan</th>\n      <th>6.AreaBulatan</th>\n      <th>7.Diameter</th>\n      <th>8.KadarAir</th>\n      <th>9.Keliling</th>\n      <th>10.Bulatan</th>\n      <th>11.Ransum</th>\n      <th>12.Kelas</th>\n    </tr>\n  </thead>\n  <tbody>\n    <tr>\n      <td>count</td>\n      <td>500.000000</td>\n      <td>500.000000</td>\n      <td>500.000000</td>\n      <td>500.000000</td>\n      <td>500.000000</td>\n      <td>500.000000</td>\n      <td>500.000000</td>\n      <td>500.000000</td>\n      <td>500.000000</td>\n      <td>500.000000</td>\n      <td>500.000000</td>\n      <td>500.000000</td>\n    </tr>\n    <tr>\n      <td>mean</td>\n      <td>250.500000</td>\n      <td>4801.246000</td>\n      <td>116.045171</td>\n      <td>53.715246</td>\n      <td>0.878764</td>\n      <td>4937.048000</td>\n      <td>77.771158</td>\n      <td>0.648372</td>\n      <td>281.479722</td>\n      <td>0.761737</td>\n      <td>2.150915</td>\n      <td>1.502000</td>\n    </tr>\n    <tr>\n      <td>std</td>\n      <td>144.481833</td>\n      <td>986.395491</td>\n      <td>18.282626</td>\n      <td>4.071075</td>\n      <td>0.036586</td>\n      <td>1011.696255</td>\n      <td>8.056867</td>\n      <td>0.094367</td>\n      <td>37.335402</td>\n      <td>0.061702</td>\n      <td>0.249767</td>\n      <td>0.500497</td>\n    </tr>\n    <tr>\n      <td>min</td>\n      <td>1.000000</td>\n      <td>2522.000000</td>\n      <td>74.133114</td>\n      <td>39.906517</td>\n      <td>0.719916</td>\n      <td>2579.000000</td>\n      <td>56.666658</td>\n      <td>0.409927</td>\n      <td>197.015000</td>\n      <td>0.174590</td>\n      <td>1.440796</td>\n      <td>1.000000</td>\n    </tr>\n    <tr>\n      <td>25%</td>\n      <td>125.750000</td>\n      <td>4042.750000</td>\n      <td>104.116098</td>\n      <td>51.193576</td>\n      <td>0.863676</td>\n      <td>4170.250000</td>\n      <td>71.745308</td>\n      <td>0.572632</td>\n      <td>255.883000</td>\n      <td>0.731991</td>\n      <td>1.983939</td>\n      <td>1.000000</td>\n    </tr>\n    <tr>\n      <td>50%</td>\n      <td>250.500000</td>\n      <td>4735.000000</td>\n      <td>115.405140</td>\n      <td>53.731199</td>\n      <td>0.890045</td>\n      <td>4857.000000</td>\n      <td>77.645277</td>\n      <td>0.626117</td>\n      <td>280.045500</td>\n      <td>0.761288</td>\n      <td>2.193599</td>\n      <td>2.000000</td>\n    </tr>\n    <tr>\n      <td>75%</td>\n      <td>375.250000</td>\n      <td>5495.500000</td>\n      <td>129.046792</td>\n      <td>56.325158</td>\n      <td>0.907578</td>\n      <td>5654.250000</td>\n      <td>83.648598</td>\n      <td>0.726633</td>\n      <td>306.062500</td>\n      <td>0.796361</td>\n      <td>2.381612</td>\n      <td>2.000000</td>\n    </tr>\n    <tr>\n      <td>max</td>\n      <td>500.000000</td>\n      <td>7453.000000</td>\n      <td>227.928583</td>\n      <td>68.977700</td>\n      <td>0.914001</td>\n      <td>7720.000000</td>\n      <td>97.413830</td>\n      <td>0.878899</td>\n      <td>488.837000</td>\n      <td>0.904748</td>\n      <td>2.464809</td>\n      <td>2.000000</td>\n    </tr>\n  </tbody>\n</table>\n</div>"
     },
     "metadata": {},
     "execution_count": 6
    }
   ],
   "source": [
    "df.describe()"
   ]
  },
  {
   "cell_type": "code",
   "execution_count": 63,
   "metadata": {},
   "outputs": [
    {
     "output_type": "execute_result",
     "data": {
      "text/plain": [
       "array([2.50500000e+02, 4.80124600e+03, 1.16045171e+02, 5.37152460e+01,\n",
       "       8.78763914e-01, 4.93704800e+03, 7.77711578e+01, 6.48371672e-01,\n",
       "       2.81479722e+02, 7.61737436e-01, 2.15091533e+00, 1.50200000e+00])"
      ]
     },
     "metadata": {},
     "execution_count": 63
    }
   ],
   "source": [
    "'''\n",
    "mean, median, mode, std, var, range, min, max, quantile, IQR, skew, kurtosis\n",
    "df[\"2.Daerah\"].mean()\n",
    "df[\"2.Daerah\"].median()\n",
    "df[\"2.Daerah\"].mode()\n",
    "df[\"2.Daerah\"].std()\n",
    "df[\"2.Daerah\"].var()\n",
    "df[\"2.Daerah\"].max() - df[\"2.Daerah\"].min()\n",
    "df[\"2.Daerah\"].max()\n",
    "df[\"2.Daerah\"].min()\n",
    "df[\"2.Daerah\"].quantile(0.25)\n",
    "df[\"2.Daerah\"].quantile(0.50)\n",
    "df[\"2.Daerah\"].quantile(0.75)\n",
    "df[\"2.Daerah\"].quantile(0.75) - df[\"2.Daerah\"].quantile(0.25)\n",
    "df[\"2.Daerah\"].skew()\n",
    "df[\"2.Daerah\"].kurtosis()\n",
    "'''\n",
    "\n",
    "dmean = df.mean()\n",
    "dmedian = df.median()\n",
    "dmode = df.mode().loc[0]\n",
    "dstd = df.std()\n",
    "dvar = df.var()\n",
    "drange = df.max() - df.min()\n",
    "dmax = df.max()\n",
    "dmin = df.min()\n",
    "dq1 = df.quantile(0.25)\n",
    "dq2 = df.quantile(0.50)\n",
    "dq3 = df.quantile(0.75)\n",
    "dIQR = dq3 - dq1\n",
    "dskew = df.skew()\n",
    "dkurtosis = df.kurtosis()\n",
    "\n",
    "dataMatrix = np.array([dmean, dmedian, dmode, dstd, dvar, drange, dmax, dmin, dq1, dq2, dq3, dIQR, dskew, dkurtosis])\n",
    "\n",
    "dataMatrix[0]"
   ]
  },
  {
   "cell_type": "code",
   "execution_count": 64,
   "metadata": {},
   "outputs": [
    {
     "output_type": "execute_result",
     "data": {
      "text/plain": [
       "1.id              250.500000\n",
       "2.Daerah         4801.246000\n",
       "3.SumbuUtama      116.045171\n",
       "4.SumbuKecil       53.715246\n",
       "5.Keunikan          0.878764\n",
       "6.AreaBulatan    4937.048000\n",
       "7.Diameter         77.771158\n",
       "8.KadarAir          0.648372\n",
       "9.Keliling        281.479722\n",
       "10.Bulatan          0.761737\n",
       "11.Ransum           2.150915\n",
       "12.Kelas            1.502000\n",
       "dtype: float64"
      ]
     },
     "metadata": {},
     "execution_count": 64
    }
   ],
   "source": [
    "dmean"
   ]
  },
  {
   "cell_type": "code",
   "execution_count": 44,
   "metadata": {},
   "outputs": [
    {
     "output_type": "execute_result",
     "data": {
      "text/plain": [
       "<matplotlib.axes._subplots.AxesSubplot at 0x13a48d4fcc8>"
      ]
     },
     "metadata": {},
     "execution_count": 44
    },
    {
     "output_type": "display_data",
     "data": {
      "text/plain": "<Figure size 432x288 with 1 Axes>",
      "image/svg+xml": "<?xml version=\"1.0\" encoding=\"utf-8\" standalone=\"no\"?>\r\n<!DOCTYPE svg PUBLIC \"-//W3C//DTD SVG 1.1//EN\"\r\n  \"http://www.w3.org/Graphics/SVG/1.1/DTD/svg11.dtd\">\r\n<!-- Created with matplotlib (https://matplotlib.org/) -->\r\n<svg height=\"248.518125pt\" version=\"1.1\" viewBox=\"0 0 382.603125 248.518125\" width=\"382.603125pt\" xmlns=\"http://www.w3.org/2000/svg\" xmlns:xlink=\"http://www.w3.org/1999/xlink\">\r\n <defs>\r\n  <style type=\"text/css\">\r\n*{stroke-linecap:butt;stroke-linejoin:round;}\r\n  </style>\r\n </defs>\r\n <g id=\"figure_1\">\r\n  <g id=\"patch_1\">\r\n   <path d=\"M 0 248.518125 \r\nL 382.603125 248.518125 \r\nL 382.603125 0 \r\nL 0 0 \r\nz\r\n\" style=\"fill:none;\"/>\r\n  </g>\r\n  <g id=\"axes_1\">\r\n   <g id=\"patch_2\">\r\n    <path d=\"M 40.603125 224.64 \r\nL 375.403125 224.64 \r\nL 375.403125 7.2 \r\nL 40.603125 7.2 \r\nz\r\n\" style=\"fill:#ffffff;\"/>\r\n   </g>\r\n   <g id=\"patch_3\">\r\n    <path clip-path=\"url(#peba23159db)\" d=\"M 55.821307 224.64 \r\nL 86.25767 224.64 \r\nL 86.25767 200.145991 \r\nL 55.821307 200.145991 \r\nz\r\n\" style=\"fill:#1f77b4;\"/>\r\n   </g>\r\n   <g id=\"patch_4\">\r\n    <path clip-path=\"url(#peba23159db)\" d=\"M 86.25767 224.64 \r\nL 116.694034 224.64 \r\nL 116.694034 148.931244 \r\nL 86.25767 148.931244 \r\nz\r\n\" style=\"fill:#1f77b4;\"/>\r\n   </g>\r\n   <g id=\"patch_5\">\r\n    <path clip-path=\"url(#peba23159db)\" d=\"M 116.694034 224.64 \r\nL 147.130398 224.64 \r\nL 147.130398 64.315576 \r\nL 116.694034 64.315576 \r\nz\r\n\" style=\"fill:#1f77b4;\"/>\r\n   </g>\r\n   <g id=\"patch_6\">\r\n    <path clip-path=\"url(#peba23159db)\" d=\"M 147.130398 224.64 \r\nL 177.566761 224.64 \r\nL 177.566761 17.554286 \r\nL 147.130398 17.554286 \r\nz\r\n\" style=\"fill:#1f77b4;\"/>\r\n   </g>\r\n   <g id=\"patch_7\">\r\n    <path clip-path=\"url(#peba23159db)\" d=\"M 177.566761 224.64 \r\nL 208.003125 224.64 \r\nL 208.003125 46.501751 \r\nL 177.566761 46.501751 \r\nz\r\n\" style=\"fill:#1f77b4;\"/>\r\n   </g>\r\n   <g id=\"patch_8\">\r\n    <path clip-path=\"url(#peba23159db)\" d=\"M 208.003125 224.64 \r\nL 238.439489 224.64 \r\nL 238.439489 39.821567 \r\nL 208.003125 39.821567 \r\nz\r\n\" style=\"fill:#1f77b4;\"/>\r\n   </g>\r\n   <g id=\"patch_9\">\r\n    <path clip-path=\"url(#peba23159db)\" d=\"M 238.439489 224.64 \r\nL 268.875852 224.64 \r\nL 268.875852 84.356129 \r\nL 238.439489 84.356129 \r\nz\r\n\" style=\"fill:#1f77b4;\"/>\r\n   </g>\r\n   <g id=\"patch_10\">\r\n    <path clip-path=\"url(#peba23159db)\" d=\"M 268.875852 224.64 \r\nL 299.312216 224.64 \r\nL 299.312216 142.25106 \r\nL 268.875852 142.25106 \r\nz\r\n\" style=\"fill:#1f77b4;\"/>\r\n   </g>\r\n   <g id=\"patch_11\">\r\n    <path clip-path=\"url(#peba23159db)\" d=\"M 299.312216 224.64 \r\nL 329.74858 224.64 \r\nL 329.74858 184.558894 \r\nL 299.312216 184.558894 \r\nz\r\n\" style=\"fill:#1f77b4;\"/>\r\n   </g>\r\n   <g id=\"patch_12\">\r\n    <path clip-path=\"url(#peba23159db)\" d=\"M 329.74858 224.64 \r\nL 360.184943 224.64 \r\nL 360.184943 204.599447 \r\nL 329.74858 204.599447 \r\nz\r\n\" style=\"fill:#1f77b4;\"/>\r\n   </g>\r\n   <g id=\"matplotlib.axis_1\">\r\n    <g id=\"xtick_1\">\r\n     <g id=\"line2d_1\">\r\n      <defs>\r\n       <path d=\"M 0 0 \r\nL 0 3.5 \r\n\" id=\"m5e97a8b93e\" style=\"stroke:#000000;stroke-width:0.8;\"/>\r\n      </defs>\r\n      <g>\r\n       <use style=\"stroke:#000000;stroke-width:0.8;\" x=\"85.32563\" xlink:href=\"#m5e97a8b93e\" y=\"224.64\"/>\r\n      </g>\r\n     </g>\r\n     <g id=\"text_1\">\r\n      <!-- 3000 -->\r\n      <defs>\r\n       <path d=\"M 40.578125 39.3125 \r\nQ 47.65625 37.796875 51.625 33 \r\nQ 55.609375 28.21875 55.609375 21.1875 \r\nQ 55.609375 10.40625 48.1875 4.484375 \r\nQ 40.765625 -1.421875 27.09375 -1.421875 \r\nQ 22.515625 -1.421875 17.65625 -0.515625 \r\nQ 12.796875 0.390625 7.625 2.203125 \r\nL 7.625 11.71875 \r\nQ 11.71875 9.328125 16.59375 8.109375 \r\nQ 21.484375 6.890625 26.8125 6.890625 \r\nQ 36.078125 6.890625 40.9375 10.546875 \r\nQ 45.796875 14.203125 45.796875 21.1875 \r\nQ 45.796875 27.640625 41.28125 31.265625 \r\nQ 36.765625 34.90625 28.71875 34.90625 \r\nL 20.21875 34.90625 \r\nL 20.21875 43.015625 \r\nL 29.109375 43.015625 \r\nQ 36.375 43.015625 40.234375 45.921875 \r\nQ 44.09375 48.828125 44.09375 54.296875 \r\nQ 44.09375 59.90625 40.109375 62.90625 \r\nQ 36.140625 65.921875 28.71875 65.921875 \r\nQ 24.65625 65.921875 20.015625 65.03125 \r\nQ 15.375 64.15625 9.8125 62.3125 \r\nL 9.8125 71.09375 \r\nQ 15.4375 72.65625 20.34375 73.4375 \r\nQ 25.25 74.21875 29.59375 74.21875 \r\nQ 40.828125 74.21875 47.359375 69.109375 \r\nQ 53.90625 64.015625 53.90625 55.328125 \r\nQ 53.90625 49.265625 50.4375 45.09375 \r\nQ 46.96875 40.921875 40.578125 39.3125 \r\nz\r\n\" id=\"DejaVuSans-51\"/>\r\n       <path d=\"M 31.78125 66.40625 \r\nQ 24.171875 66.40625 20.328125 58.90625 \r\nQ 16.5 51.421875 16.5 36.375 \r\nQ 16.5 21.390625 20.328125 13.890625 \r\nQ 24.171875 6.390625 31.78125 6.390625 \r\nQ 39.453125 6.390625 43.28125 13.890625 \r\nQ 47.125 21.390625 47.125 36.375 \r\nQ 47.125 51.421875 43.28125 58.90625 \r\nQ 39.453125 66.40625 31.78125 66.40625 \r\nz\r\nM 31.78125 74.21875 \r\nQ 44.046875 74.21875 50.515625 64.515625 \r\nQ 56.984375 54.828125 56.984375 36.375 \r\nQ 56.984375 17.96875 50.515625 8.265625 \r\nQ 44.046875 -1.421875 31.78125 -1.421875 \r\nQ 19.53125 -1.421875 13.0625 8.265625 \r\nQ 6.59375 17.96875 6.59375 36.375 \r\nQ 6.59375 54.828125 13.0625 64.515625 \r\nQ 19.53125 74.21875 31.78125 74.21875 \r\nz\r\n\" id=\"DejaVuSans-48\"/>\r\n      </defs>\r\n      <g transform=\"translate(72.60063 239.238438)scale(0.1 -0.1)\">\r\n       <use xlink:href=\"#DejaVuSans-51\"/>\r\n       <use x=\"63.623047\" xlink:href=\"#DejaVuSans-48\"/>\r\n       <use x=\"127.246094\" xlink:href=\"#DejaVuSans-48\"/>\r\n       <use x=\"190.869141\" xlink:href=\"#DejaVuSans-48\"/>\r\n      </g>\r\n     </g>\r\n    </g>\r\n    <g id=\"xtick_2\">\r\n     <g id=\"line2d_2\">\r\n      <g>\r\n       <use style=\"stroke:#000000;stroke-width:0.8;\" x=\"147.050156\" xlink:href=\"#m5e97a8b93e\" y=\"224.64\"/>\r\n      </g>\r\n     </g>\r\n     <g id=\"text_2\">\r\n      <!-- 4000 -->\r\n      <defs>\r\n       <path d=\"M 37.796875 64.3125 \r\nL 12.890625 25.390625 \r\nL 37.796875 25.390625 \r\nz\r\nM 35.203125 72.90625 \r\nL 47.609375 72.90625 \r\nL 47.609375 25.390625 \r\nL 58.015625 25.390625 \r\nL 58.015625 17.1875 \r\nL 47.609375 17.1875 \r\nL 47.609375 0 \r\nL 37.796875 0 \r\nL 37.796875 17.1875 \r\nL 4.890625 17.1875 \r\nL 4.890625 26.703125 \r\nz\r\n\" id=\"DejaVuSans-52\"/>\r\n      </defs>\r\n      <g transform=\"translate(134.325156 239.238438)scale(0.1 -0.1)\">\r\n       <use xlink:href=\"#DejaVuSans-52\"/>\r\n       <use x=\"63.623047\" xlink:href=\"#DejaVuSans-48\"/>\r\n       <use x=\"127.246094\" xlink:href=\"#DejaVuSans-48\"/>\r\n       <use x=\"190.869141\" xlink:href=\"#DejaVuSans-48\"/>\r\n      </g>\r\n     </g>\r\n    </g>\r\n    <g id=\"xtick_3\">\r\n     <g id=\"line2d_3\">\r\n      <g>\r\n       <use style=\"stroke:#000000;stroke-width:0.8;\" x=\"208.774682\" xlink:href=\"#m5e97a8b93e\" y=\"224.64\"/>\r\n      </g>\r\n     </g>\r\n     <g id=\"text_3\">\r\n      <!-- 5000 -->\r\n      <defs>\r\n       <path d=\"M 10.796875 72.90625 \r\nL 49.515625 72.90625 \r\nL 49.515625 64.59375 \r\nL 19.828125 64.59375 \r\nL 19.828125 46.734375 \r\nQ 21.96875 47.46875 24.109375 47.828125 \r\nQ 26.265625 48.1875 28.421875 48.1875 \r\nQ 40.625 48.1875 47.75 41.5 \r\nQ 54.890625 34.8125 54.890625 23.390625 \r\nQ 54.890625 11.625 47.5625 5.09375 \r\nQ 40.234375 -1.421875 26.90625 -1.421875 \r\nQ 22.3125 -1.421875 17.546875 -0.640625 \r\nQ 12.796875 0.140625 7.71875 1.703125 \r\nL 7.71875 11.625 \r\nQ 12.109375 9.234375 16.796875 8.0625 \r\nQ 21.484375 6.890625 26.703125 6.890625 \r\nQ 35.15625 6.890625 40.078125 11.328125 \r\nQ 45.015625 15.765625 45.015625 23.390625 \r\nQ 45.015625 31 40.078125 35.4375 \r\nQ 35.15625 39.890625 26.703125 39.890625 \r\nQ 22.75 39.890625 18.8125 39.015625 \r\nQ 14.890625 38.140625 10.796875 36.28125 \r\nz\r\n\" id=\"DejaVuSans-53\"/>\r\n      </defs>\r\n      <g transform=\"translate(196.049682 239.238438)scale(0.1 -0.1)\">\r\n       <use xlink:href=\"#DejaVuSans-53\"/>\r\n       <use x=\"63.623047\" xlink:href=\"#DejaVuSans-48\"/>\r\n       <use x=\"127.246094\" xlink:href=\"#DejaVuSans-48\"/>\r\n       <use x=\"190.869141\" xlink:href=\"#DejaVuSans-48\"/>\r\n      </g>\r\n     </g>\r\n    </g>\r\n    <g id=\"xtick_4\">\r\n     <g id=\"line2d_4\">\r\n      <g>\r\n       <use style=\"stroke:#000000;stroke-width:0.8;\" x=\"270.499207\" xlink:href=\"#m5e97a8b93e\" y=\"224.64\"/>\r\n      </g>\r\n     </g>\r\n     <g id=\"text_4\">\r\n      <!-- 6000 -->\r\n      <defs>\r\n       <path d=\"M 33.015625 40.375 \r\nQ 26.375 40.375 22.484375 35.828125 \r\nQ 18.609375 31.296875 18.609375 23.390625 \r\nQ 18.609375 15.53125 22.484375 10.953125 \r\nQ 26.375 6.390625 33.015625 6.390625 \r\nQ 39.65625 6.390625 43.53125 10.953125 \r\nQ 47.40625 15.53125 47.40625 23.390625 \r\nQ 47.40625 31.296875 43.53125 35.828125 \r\nQ 39.65625 40.375 33.015625 40.375 \r\nz\r\nM 52.59375 71.296875 \r\nL 52.59375 62.3125 \r\nQ 48.875 64.0625 45.09375 64.984375 \r\nQ 41.3125 65.921875 37.59375 65.921875 \r\nQ 27.828125 65.921875 22.671875 59.328125 \r\nQ 17.53125 52.734375 16.796875 39.40625 \r\nQ 19.671875 43.65625 24.015625 45.921875 \r\nQ 28.375 48.1875 33.59375 48.1875 \r\nQ 44.578125 48.1875 50.953125 41.515625 \r\nQ 57.328125 34.859375 57.328125 23.390625 \r\nQ 57.328125 12.15625 50.6875 5.359375 \r\nQ 44.046875 -1.421875 33.015625 -1.421875 \r\nQ 20.359375 -1.421875 13.671875 8.265625 \r\nQ 6.984375 17.96875 6.984375 36.375 \r\nQ 6.984375 53.65625 15.1875 63.9375 \r\nQ 23.390625 74.21875 37.203125 74.21875 \r\nQ 40.921875 74.21875 44.703125 73.484375 \r\nQ 48.484375 72.75 52.59375 71.296875 \r\nz\r\n\" id=\"DejaVuSans-54\"/>\r\n      </defs>\r\n      <g transform=\"translate(257.774207 239.238438)scale(0.1 -0.1)\">\r\n       <use xlink:href=\"#DejaVuSans-54\"/>\r\n       <use x=\"63.623047\" xlink:href=\"#DejaVuSans-48\"/>\r\n       <use x=\"127.246094\" xlink:href=\"#DejaVuSans-48\"/>\r\n       <use x=\"190.869141\" xlink:href=\"#DejaVuSans-48\"/>\r\n      </g>\r\n     </g>\r\n    </g>\r\n    <g id=\"xtick_5\">\r\n     <g id=\"line2d_5\">\r\n      <g>\r\n       <use style=\"stroke:#000000;stroke-width:0.8;\" x=\"332.223733\" xlink:href=\"#m5e97a8b93e\" y=\"224.64\"/>\r\n      </g>\r\n     </g>\r\n     <g id=\"text_5\">\r\n      <!-- 7000 -->\r\n      <defs>\r\n       <path d=\"M 8.203125 72.90625 \r\nL 55.078125 72.90625 \r\nL 55.078125 68.703125 \r\nL 28.609375 0 \r\nL 18.3125 0 \r\nL 43.21875 64.59375 \r\nL 8.203125 64.59375 \r\nz\r\n\" id=\"DejaVuSans-55\"/>\r\n      </defs>\r\n      <g transform=\"translate(319.498733 239.238438)scale(0.1 -0.1)\">\r\n       <use xlink:href=\"#DejaVuSans-55\"/>\r\n       <use x=\"63.623047\" xlink:href=\"#DejaVuSans-48\"/>\r\n       <use x=\"127.246094\" xlink:href=\"#DejaVuSans-48\"/>\r\n       <use x=\"190.869141\" xlink:href=\"#DejaVuSans-48\"/>\r\n      </g>\r\n     </g>\r\n    </g>\r\n   </g>\r\n   <g id=\"matplotlib.axis_2\">\r\n    <g id=\"ytick_1\">\r\n     <g id=\"line2d_6\">\r\n      <defs>\r\n       <path d=\"M 0 0 \r\nL -3.5 0 \r\n\" id=\"m6e93efc07a\" style=\"stroke:#000000;stroke-width:0.8;\"/>\r\n      </defs>\r\n      <g>\r\n       <use style=\"stroke:#000000;stroke-width:0.8;\" x=\"40.603125\" xlink:href=\"#m6e93efc07a\" y=\"224.64\"/>\r\n      </g>\r\n     </g>\r\n     <g id=\"text_6\">\r\n      <!-- 0 -->\r\n      <g transform=\"translate(27.240625 228.439219)scale(0.1 -0.1)\">\r\n       <use xlink:href=\"#DejaVuSans-48\"/>\r\n      </g>\r\n     </g>\r\n    </g>\r\n    <g id=\"ytick_2\">\r\n     <g id=\"line2d_7\">\r\n      <g>\r\n       <use style=\"stroke:#000000;stroke-width:0.8;\" x=\"40.603125\" xlink:href=\"#m6e93efc07a\" y=\"180.105438\"/>\r\n      </g>\r\n     </g>\r\n     <g id=\"text_7\">\r\n      <!-- 20 -->\r\n      <defs>\r\n       <path d=\"M 19.1875 8.296875 \r\nL 53.609375 8.296875 \r\nL 53.609375 0 \r\nL 7.328125 0 \r\nL 7.328125 8.296875 \r\nQ 12.9375 14.109375 22.625 23.890625 \r\nQ 32.328125 33.6875 34.8125 36.53125 \r\nQ 39.546875 41.84375 41.421875 45.53125 \r\nQ 43.3125 49.21875 43.3125 52.78125 \r\nQ 43.3125 58.59375 39.234375 62.25 \r\nQ 35.15625 65.921875 28.609375 65.921875 \r\nQ 23.96875 65.921875 18.8125 64.3125 \r\nQ 13.671875 62.703125 7.8125 59.421875 \r\nL 7.8125 69.390625 \r\nQ 13.765625 71.78125 18.9375 73 \r\nQ 24.125 74.21875 28.421875 74.21875 \r\nQ 39.75 74.21875 46.484375 68.546875 \r\nQ 53.21875 62.890625 53.21875 53.421875 \r\nQ 53.21875 48.921875 51.53125 44.890625 \r\nQ 49.859375 40.875 45.40625 35.40625 \r\nQ 44.1875 33.984375 37.640625 27.21875 \r\nQ 31.109375 20.453125 19.1875 8.296875 \r\nz\r\n\" id=\"DejaVuSans-50\"/>\r\n      </defs>\r\n      <g transform=\"translate(20.878125 183.904657)scale(0.1 -0.1)\">\r\n       <use xlink:href=\"#DejaVuSans-50\"/>\r\n       <use x=\"63.623047\" xlink:href=\"#DejaVuSans-48\"/>\r\n      </g>\r\n     </g>\r\n    </g>\r\n    <g id=\"ytick_3\">\r\n     <g id=\"line2d_8\">\r\n      <g>\r\n       <use style=\"stroke:#000000;stroke-width:0.8;\" x=\"40.603125\" xlink:href=\"#m6e93efc07a\" y=\"135.570876\"/>\r\n      </g>\r\n     </g>\r\n     <g id=\"text_8\">\r\n      <!-- 40 -->\r\n      <g transform=\"translate(20.878125 139.370094)scale(0.1 -0.1)\">\r\n       <use xlink:href=\"#DejaVuSans-52\"/>\r\n       <use x=\"63.623047\" xlink:href=\"#DejaVuSans-48\"/>\r\n      </g>\r\n     </g>\r\n    </g>\r\n    <g id=\"ytick_4\">\r\n     <g id=\"line2d_9\">\r\n      <g>\r\n       <use style=\"stroke:#000000;stroke-width:0.8;\" x=\"40.603125\" xlink:href=\"#m6e93efc07a\" y=\"91.036313\"/>\r\n      </g>\r\n     </g>\r\n     <g id=\"text_9\">\r\n      <!-- 60 -->\r\n      <g transform=\"translate(20.878125 94.835532)scale(0.1 -0.1)\">\r\n       <use xlink:href=\"#DejaVuSans-54\"/>\r\n       <use x=\"63.623047\" xlink:href=\"#DejaVuSans-48\"/>\r\n      </g>\r\n     </g>\r\n    </g>\r\n    <g id=\"ytick_5\">\r\n     <g id=\"line2d_10\">\r\n      <g>\r\n       <use style=\"stroke:#000000;stroke-width:0.8;\" x=\"40.603125\" xlink:href=\"#m6e93efc07a\" y=\"46.501751\"/>\r\n      </g>\r\n     </g>\r\n     <g id=\"text_10\">\r\n      <!-- 80 -->\r\n      <defs>\r\n       <path d=\"M 31.78125 34.625 \r\nQ 24.75 34.625 20.71875 30.859375 \r\nQ 16.703125 27.09375 16.703125 20.515625 \r\nQ 16.703125 13.921875 20.71875 10.15625 \r\nQ 24.75 6.390625 31.78125 6.390625 \r\nQ 38.8125 6.390625 42.859375 10.171875 \r\nQ 46.921875 13.96875 46.921875 20.515625 \r\nQ 46.921875 27.09375 42.890625 30.859375 \r\nQ 38.875 34.625 31.78125 34.625 \r\nz\r\nM 21.921875 38.8125 \r\nQ 15.578125 40.375 12.03125 44.71875 \r\nQ 8.5 49.078125 8.5 55.328125 \r\nQ 8.5 64.0625 14.71875 69.140625 \r\nQ 20.953125 74.21875 31.78125 74.21875 \r\nQ 42.671875 74.21875 48.875 69.140625 \r\nQ 55.078125 64.0625 55.078125 55.328125 \r\nQ 55.078125 49.078125 51.53125 44.71875 \r\nQ 48 40.375 41.703125 38.8125 \r\nQ 48.828125 37.15625 52.796875 32.3125 \r\nQ 56.78125 27.484375 56.78125 20.515625 \r\nQ 56.78125 9.90625 50.3125 4.234375 \r\nQ 43.84375 -1.421875 31.78125 -1.421875 \r\nQ 19.734375 -1.421875 13.25 4.234375 \r\nQ 6.78125 9.90625 6.78125 20.515625 \r\nQ 6.78125 27.484375 10.78125 32.3125 \r\nQ 14.796875 37.15625 21.921875 38.8125 \r\nz\r\nM 18.3125 54.390625 \r\nQ 18.3125 48.734375 21.84375 45.5625 \r\nQ 25.390625 42.390625 31.78125 42.390625 \r\nQ 38.140625 42.390625 41.71875 45.5625 \r\nQ 45.3125 48.734375 45.3125 54.390625 \r\nQ 45.3125 60.0625 41.71875 63.234375 \r\nQ 38.140625 66.40625 31.78125 66.40625 \r\nQ 25.390625 66.40625 21.84375 63.234375 \r\nQ 18.3125 60.0625 18.3125 54.390625 \r\nz\r\n\" id=\"DejaVuSans-56\"/>\r\n      </defs>\r\n      <g transform=\"translate(20.878125 50.30097)scale(0.1 -0.1)\">\r\n       <use xlink:href=\"#DejaVuSans-56\"/>\r\n       <use x=\"63.623047\" xlink:href=\"#DejaVuSans-48\"/>\r\n      </g>\r\n     </g>\r\n    </g>\r\n    <g id=\"text_11\">\r\n     <!-- Frequency -->\r\n     <defs>\r\n      <path d=\"M 9.8125 72.90625 \r\nL 51.703125 72.90625 \r\nL 51.703125 64.59375 \r\nL 19.671875 64.59375 \r\nL 19.671875 43.109375 \r\nL 48.578125 43.109375 \r\nL 48.578125 34.8125 \r\nL 19.671875 34.8125 \r\nL 19.671875 0 \r\nL 9.8125 0 \r\nz\r\n\" id=\"DejaVuSans-70\"/>\r\n      <path d=\"M 41.109375 46.296875 \r\nQ 39.59375 47.171875 37.8125 47.578125 \r\nQ 36.03125 48 33.890625 48 \r\nQ 26.265625 48 22.1875 43.046875 \r\nQ 18.109375 38.09375 18.109375 28.8125 \r\nL 18.109375 0 \r\nL 9.078125 0 \r\nL 9.078125 54.6875 \r\nL 18.109375 54.6875 \r\nL 18.109375 46.1875 \r\nQ 20.953125 51.171875 25.484375 53.578125 \r\nQ 30.03125 56 36.53125 56 \r\nQ 37.453125 56 38.578125 55.875 \r\nQ 39.703125 55.765625 41.0625 55.515625 \r\nz\r\n\" id=\"DejaVuSans-114\"/>\r\n      <path d=\"M 56.203125 29.59375 \r\nL 56.203125 25.203125 \r\nL 14.890625 25.203125 \r\nQ 15.484375 15.921875 20.484375 11.0625 \r\nQ 25.484375 6.203125 34.421875 6.203125 \r\nQ 39.59375 6.203125 44.453125 7.46875 \r\nQ 49.3125 8.734375 54.109375 11.28125 \r\nL 54.109375 2.78125 \r\nQ 49.265625 0.734375 44.1875 -0.34375 \r\nQ 39.109375 -1.421875 33.890625 -1.421875 \r\nQ 20.796875 -1.421875 13.15625 6.1875 \r\nQ 5.515625 13.8125 5.515625 26.8125 \r\nQ 5.515625 40.234375 12.765625 48.109375 \r\nQ 20.015625 56 32.328125 56 \r\nQ 43.359375 56 49.78125 48.890625 \r\nQ 56.203125 41.796875 56.203125 29.59375 \r\nz\r\nM 47.21875 32.234375 \r\nQ 47.125 39.59375 43.09375 43.984375 \r\nQ 39.0625 48.390625 32.421875 48.390625 \r\nQ 24.90625 48.390625 20.390625 44.140625 \r\nQ 15.875 39.890625 15.1875 32.171875 \r\nz\r\n\" id=\"DejaVuSans-101\"/>\r\n      <path d=\"M 14.796875 27.296875 \r\nQ 14.796875 17.390625 18.875 11.75 \r\nQ 22.953125 6.109375 30.078125 6.109375 \r\nQ 37.203125 6.109375 41.296875 11.75 \r\nQ 45.40625 17.390625 45.40625 27.296875 \r\nQ 45.40625 37.203125 41.296875 42.84375 \r\nQ 37.203125 48.484375 30.078125 48.484375 \r\nQ 22.953125 48.484375 18.875 42.84375 \r\nQ 14.796875 37.203125 14.796875 27.296875 \r\nz\r\nM 45.40625 8.203125 \r\nQ 42.578125 3.328125 38.25 0.953125 \r\nQ 33.9375 -1.421875 27.875 -1.421875 \r\nQ 17.96875 -1.421875 11.734375 6.484375 \r\nQ 5.515625 14.40625 5.515625 27.296875 \r\nQ 5.515625 40.1875 11.734375 48.09375 \r\nQ 17.96875 56 27.875 56 \r\nQ 33.9375 56 38.25 53.625 \r\nQ 42.578125 51.265625 45.40625 46.390625 \r\nL 45.40625 54.6875 \r\nL 54.390625 54.6875 \r\nL 54.390625 -20.796875 \r\nL 45.40625 -20.796875 \r\nz\r\n\" id=\"DejaVuSans-113\"/>\r\n      <path d=\"M 8.5 21.578125 \r\nL 8.5 54.6875 \r\nL 17.484375 54.6875 \r\nL 17.484375 21.921875 \r\nQ 17.484375 14.15625 20.5 10.265625 \r\nQ 23.53125 6.390625 29.59375 6.390625 \r\nQ 36.859375 6.390625 41.078125 11.03125 \r\nQ 45.3125 15.671875 45.3125 23.6875 \r\nL 45.3125 54.6875 \r\nL 54.296875 54.6875 \r\nL 54.296875 0 \r\nL 45.3125 0 \r\nL 45.3125 8.40625 \r\nQ 42.046875 3.421875 37.71875 1 \r\nQ 33.40625 -1.421875 27.6875 -1.421875 \r\nQ 18.265625 -1.421875 13.375 4.4375 \r\nQ 8.5 10.296875 8.5 21.578125 \r\nz\r\nM 31.109375 56 \r\nz\r\n\" id=\"DejaVuSans-117\"/>\r\n      <path d=\"M 54.890625 33.015625 \r\nL 54.890625 0 \r\nL 45.90625 0 \r\nL 45.90625 32.71875 \r\nQ 45.90625 40.484375 42.875 44.328125 \r\nQ 39.84375 48.1875 33.796875 48.1875 \r\nQ 26.515625 48.1875 22.3125 43.546875 \r\nQ 18.109375 38.921875 18.109375 30.90625 \r\nL 18.109375 0 \r\nL 9.078125 0 \r\nL 9.078125 54.6875 \r\nL 18.109375 54.6875 \r\nL 18.109375 46.1875 \r\nQ 21.34375 51.125 25.703125 53.5625 \r\nQ 30.078125 56 35.796875 56 \r\nQ 45.21875 56 50.046875 50.171875 \r\nQ 54.890625 44.34375 54.890625 33.015625 \r\nz\r\n\" id=\"DejaVuSans-110\"/>\r\n      <path d=\"M 48.78125 52.59375 \r\nL 48.78125 44.1875 \r\nQ 44.96875 46.296875 41.140625 47.34375 \r\nQ 37.3125 48.390625 33.40625 48.390625 \r\nQ 24.65625 48.390625 19.8125 42.84375 \r\nQ 14.984375 37.3125 14.984375 27.296875 \r\nQ 14.984375 17.28125 19.8125 11.734375 \r\nQ 24.65625 6.203125 33.40625 6.203125 \r\nQ 37.3125 6.203125 41.140625 7.25 \r\nQ 44.96875 8.296875 48.78125 10.40625 \r\nL 48.78125 2.09375 \r\nQ 45.015625 0.34375 40.984375 -0.53125 \r\nQ 36.96875 -1.421875 32.421875 -1.421875 \r\nQ 20.0625 -1.421875 12.78125 6.34375 \r\nQ 5.515625 14.109375 5.515625 27.296875 \r\nQ 5.515625 40.671875 12.859375 48.328125 \r\nQ 20.21875 56 33.015625 56 \r\nQ 37.15625 56 41.109375 55.140625 \r\nQ 45.0625 54.296875 48.78125 52.59375 \r\nz\r\n\" id=\"DejaVuSans-99\"/>\r\n      <path d=\"M 32.171875 -5.078125 \r\nQ 28.375 -14.84375 24.75 -17.8125 \r\nQ 21.140625 -20.796875 15.09375 -20.796875 \r\nL 7.90625 -20.796875 \r\nL 7.90625 -13.28125 \r\nL 13.1875 -13.28125 \r\nQ 16.890625 -13.28125 18.9375 -11.515625 \r\nQ 21 -9.765625 23.484375 -3.21875 \r\nL 25.09375 0.875 \r\nL 2.984375 54.6875 \r\nL 12.5 54.6875 \r\nL 29.59375 11.921875 \r\nL 46.6875 54.6875 \r\nL 56.203125 54.6875 \r\nz\r\n\" id=\"DejaVuSans-121\"/>\r\n     </defs>\r\n     <g transform=\"translate(14.798438 142.217656)rotate(-90)scale(0.1 -0.1)\">\r\n      <use xlink:href=\"#DejaVuSans-70\"/>\r\n      <use x=\"57.410156\" xlink:href=\"#DejaVuSans-114\"/>\r\n      <use x=\"98.492188\" xlink:href=\"#DejaVuSans-101\"/>\r\n      <use x=\"160.015625\" xlink:href=\"#DejaVuSans-113\"/>\r\n      <use x=\"223.492188\" xlink:href=\"#DejaVuSans-117\"/>\r\n      <use x=\"286.871094\" xlink:href=\"#DejaVuSans-101\"/>\r\n      <use x=\"348.394531\" xlink:href=\"#DejaVuSans-110\"/>\r\n      <use x=\"411.773438\" xlink:href=\"#DejaVuSans-99\"/>\r\n      <use x=\"466.753906\" xlink:href=\"#DejaVuSans-121\"/>\r\n     </g>\r\n    </g>\r\n   </g>\r\n   <g id=\"patch_13\">\r\n    <path d=\"M 40.603125 224.64 \r\nL 40.603125 7.2 \r\n\" style=\"fill:none;stroke:#000000;stroke-linecap:square;stroke-linejoin:miter;stroke-width:0.8;\"/>\r\n   </g>\r\n   <g id=\"patch_14\">\r\n    <path d=\"M 375.403125 224.64 \r\nL 375.403125 7.2 \r\n\" style=\"fill:none;stroke:#000000;stroke-linecap:square;stroke-linejoin:miter;stroke-width:0.8;\"/>\r\n   </g>\r\n   <g id=\"patch_15\">\r\n    <path d=\"M 40.603125 224.64 \r\nL 375.403125 224.64 \r\n\" style=\"fill:none;stroke:#000000;stroke-linecap:square;stroke-linejoin:miter;stroke-width:0.8;\"/>\r\n   </g>\r\n   <g id=\"patch_16\">\r\n    <path d=\"M 40.603125 7.2 \r\nL 375.403125 7.2 \r\n\" style=\"fill:none;stroke:#000000;stroke-linecap:square;stroke-linejoin:miter;stroke-width:0.8;\"/>\r\n   </g>\r\n  </g>\r\n </g>\r\n <defs>\r\n  <clipPath id=\"peba23159db\">\r\n   <rect height=\"217.44\" width=\"334.8\" x=\"40.603125\" y=\"7.2\"/>\r\n  </clipPath>\r\n </defs>\r\n</svg>\r\n",
      "image/png": "[encoded data removed]"
     },
     "metadata": {
      "needs_background": "light"
     }
    }
   ],
   "source": [
    "df[\"2.Daerah\"].plot.hist()"
   ]
  },
  {
   "cell_type": "code",
   "execution_count": 66,
   "metadata": {},
   "outputs": [
    {
     "output_type": "execute_result",
     "data": {
      "text/plain": [
       "     1.id  2.Daerah  3.SumbuUtama  4.SumbuKecil  5.Keunikan  6.AreaBulatan  \\\n",
       "0       1      5781    128.288875     58.470846    0.890095           5954   \n",
       "1       2      4176    109.348294     49.837688    0.890098           4277   \n",
       "2       3      4555    114.427991     52.151207    0.890105           4706   \n",
       "3       4      4141    108.701191     49.457349    0.890499           4236   \n",
       "4       5      5273    122.747869     55.757848    0.890876           5431   \n",
       "..    ...       ...           ...           ...         ...            ...   \n",
       "245   246      5261    129.809584     52.735744    0.913760           5423   \n",
       "246   247      5657    133.971400     54.387030    0.913891           5762   \n",
       "247   248      5619    134.666209     54.663572    0.913909           5761   \n",
       "248   249      6679    146.590229     59.473271    0.914001           6851   \n",
       "249   250      4537     92.229317     64.012769    0.719916           4677   \n",
       "\n",
       "     7.Diameter  8.KadarAir  9.Keliling  10.Bulatan  11.Ransum  12.Kelas  \n",
       "0     85.793926    0.674090     316.756    0.724041   2.194066         1  \n",
       "1     72.918093    0.596231     260.346    0.774227   2.194088         1  \n",
       "2     76.155145    0.776641     279.606    0.732159   2.194158         1  \n",
       "3     72.611879    0.633180     260.478    0.766960   2.197877         1  \n",
       "4     81.937733    0.669842     302.730    0.723031   2.201446         1  \n",
       "..          ...         ...         ...         ...        ...       ...  \n",
       "245   81.844445    0.591655     298.992    0.739536   2.461510         1  \n",
       "246   84.868817    0.690720     307.377    0.752408   2.463297         1  \n",
       "247   84.583290    0.513432     313.296    0.719381   2.463546         1  \n",
       "248   92.216956    0.587940     342.990    0.713442   2.464809         1  \n",
       "249   76.004525    0.657536     273.085    0.764510   1.440796         2  \n",
       "\n",
       "[250 rows x 12 columns]"
      ],
      "text/html": "<div>\n<style scoped>\n    .dataframe tbody tr th:only-of-type {\n        vertical-align: middle;\n    }\n\n    .dataframe tbody tr th {\n        vertical-align: top;\n    }\n\n    .dataframe thead th {\n        text-align: right;\n    }\n</style>\n<table border=\"1\" class=\"dataframe\">\n  <thead>\n    <tr style=\"text-align: right;\">\n      <th></th>\n      <th>1.id</th>\n      <th>2.Daerah</th>\n      <th>3.SumbuUtama</th>\n      <th>4.SumbuKecil</th>\n      <th>5.Keunikan</th>\n      <th>6.AreaBulatan</th>\n      <th>7.Diameter</th>\n      <th>8.KadarAir</th>\n      <th>9.Keliling</th>\n      <th>10.Bulatan</th>\n      <th>11.Ransum</th>\n      <th>12.Kelas</th>\n    </tr>\n  </thead>\n  <tbody>\n    <tr>\n      <td>0</td>\n      <td>1</td>\n      <td>5781</td>\n      <td>128.288875</td>\n      <td>58.470846</td>\n      <td>0.890095</td>\n      <td>5954</td>\n      <td>85.793926</td>\n      <td>0.674090</td>\n      <td>316.756</td>\n      <td>0.724041</td>\n      <td>2.194066</td>\n      <td>1</td>\n    </tr>\n    <tr>\n      <td>1</td>\n      <td>2</td>\n      <td>4176</td>\n      <td>109.348294</td>\n      <td>49.837688</td>\n      <td>0.890098</td>\n      <td>4277</td>\n      <td>72.918093</td>\n      <td>0.596231</td>\n      <td>260.346</td>\n      <td>0.774227</td>\n      <td>2.194088</td>\n      <td>1</td>\n    </tr>\n    <tr>\n      <td>2</td>\n      <td>3</td>\n      <td>4555</td>\n      <td>114.427991</td>\n      <td>52.151207</td>\n      <td>0.890105</td>\n      <td>4706</td>\n      <td>76.155145</td>\n      <td>0.776641</td>\n      <td>279.606</td>\n      <td>0.732159</td>\n      <td>2.194158</td>\n      <td>1</td>\n    </tr>\n    <tr>\n      <td>3</td>\n      <td>4</td>\n      <td>4141</td>\n      <td>108.701191</td>\n      <td>49.457349</td>\n      <td>0.890499</td>\n      <td>4236</td>\n      <td>72.611879</td>\n      <td>0.633180</td>\n      <td>260.478</td>\n      <td>0.766960</td>\n      <td>2.197877</td>\n      <td>1</td>\n    </tr>\n    <tr>\n      <td>4</td>\n      <td>5</td>\n      <td>5273</td>\n      <td>122.747869</td>\n      <td>55.757848</td>\n      <td>0.890876</td>\n      <td>5431</td>\n      <td>81.937733</td>\n      <td>0.669842</td>\n      <td>302.730</td>\n      <td>0.723031</td>\n      <td>2.201446</td>\n      <td>1</td>\n    </tr>\n    <tr>\n      <td>...</td>\n      <td>...</td>\n      <td>...</td>\n      <td>...</td>\n      <td>...</td>\n      <td>...</td>\n      <td>...</td>\n      <td>...</td>\n      <td>...</td>\n      <td>...</td>\n      <td>...</td>\n      <td>...</td>\n      <td>...</td>\n    </tr>\n    <tr>\n      <td>245</td>\n      <td>246</td>\n      <td>5261</td>\n      <td>129.809584</td>\n      <td>52.735744</td>\n      <td>0.913760</td>\n      <td>5423</td>\n      <td>81.844445</td>\n      <td>0.591655</td>\n      <td>298.992</td>\n      <td>0.739536</td>\n      <td>2.461510</td>\n      <td>1</td>\n    </tr>\n    <tr>\n      <td>246</td>\n      <td>247</td>\n      <td>5657</td>\n      <td>133.971400</td>\n      <td>54.387030</td>\n      <td>0.913891</td>\n      <td>5762</td>\n      <td>84.868817</td>\n      <td>0.690720</td>\n      <td>307.377</td>\n      <td>0.752408</td>\n      <td>2.463297</td>\n      <td>1</td>\n    </tr>\n    <tr>\n      <td>247</td>\n      <td>248</td>\n      <td>5619</td>\n      <td>134.666209</td>\n      <td>54.663572</td>\n      <td>0.913909</td>\n      <td>5761</td>\n      <td>84.583290</td>\n      <td>0.513432</td>\n      <td>313.296</td>\n      <td>0.719381</td>\n      <td>2.463546</td>\n      <td>1</td>\n    </tr>\n    <tr>\n      <td>248</td>\n      <td>249</td>\n      <td>6679</td>\n      <td>146.590229</td>\n      <td>59.473271</td>\n      <td>0.914001</td>\n      <td>6851</td>\n      <td>92.216956</td>\n      <td>0.587940</td>\n      <td>342.990</td>\n      <td>0.713442</td>\n      <td>2.464809</td>\n      <td>1</td>\n    </tr>\n    <tr>\n      <td>249</td>\n      <td>250</td>\n      <td>4537</td>\n      <td>92.229317</td>\n      <td>64.012769</td>\n      <td>0.719916</td>\n      <td>4677</td>\n      <td>76.004525</td>\n      <td>0.657536</td>\n      <td>273.085</td>\n      <td>0.764510</td>\n      <td>1.440796</td>\n      <td>2</td>\n    </tr>\n  </tbody>\n</table>\n<p>250 rows × 12 columns</p>\n</div>"
     },
     "metadata": {},
     "execution_count": 66
    }
   ],
   "source": [
    "# Fetch data for 5\n",
    "df1 = df[:250]\n",
    "\n",
    "df2 = df[250:]"
   ]
  },
  {
   "cell_type": "code",
   "execution_count": 67,
   "metadata": {},
   "outputs": [
    {
     "output_type": "execute_result",
     "data": {
      "text/plain": [
       "     1.id  2.Daerah  3.SumbuUtama  4.SumbuKecil  5.Keunikan  6.AreaBulatan  \\\n",
       "250   251      2872     74.691881     51.400454    0.725553           3015   \n",
       "251   252      3048     76.293164     52.043491    0.731211           3132   \n",
       "252   253      3073     77.033628     51.928487    0.738639           3157   \n",
       "253   254      3693     85.124785     56.374021    0.749282           3802   \n",
       "254   255      2990     77.417073     50.954344    0.752861           3080   \n",
       "..    ...       ...           ...           ...         ...            ...   \n",
       "495   496      5083    120.083450     54.821580    0.889709           5179   \n",
       "496   497      4432    112.367050     51.294914    0.889726           4550   \n",
       "497   498      5020    119.873742     54.718545    0.889740           5104   \n",
       "498   499      4035    107.311728     48.930802    0.889996           4150   \n",
       "499   500      3379     99.014789     44.631551    0.892647           3491   \n",
       "\n",
       "     7.Diameter  8.KadarAir  9.Keliling  10.Bulatan  11.Ransum  12.Kelas  \n",
       "250   60.471018    0.713009     208.317    0.831658   1.453137         2  \n",
       "251   62.296341    0.759153     210.012    0.868434   1.465950         2  \n",
       "252   62.551300    0.783529     210.657    0.870203   1.483456         2  \n",
       "253   68.571668    0.769375     230.332    0.874743   1.510000         2  \n",
       "254   61.700780    0.584898     216.930    0.798439   1.519342         2  \n",
       "..          ...         ...         ...         ...        ...       ...  \n",
       "495   80.447975    0.534827     286.377    0.778850   2.190441         2  \n",
       "496   75.119889    0.601194     270.823    0.759344   2.190608         2  \n",
       "497   79.947874    0.528421     285.799    0.772311   2.190733         2  \n",
       "498   71.676506    0.584698     258.503    0.758791   2.193132         2  \n",
       "499   65.591741    0.653578     237.593    0.752196   2.218493         2  \n",
       "\n",
       "[250 rows x 12 columns]"
      ],
      "text/html": "<div>\n<style scoped>\n    .dataframe tbody tr th:only-of-type {\n        vertical-align: middle;\n    }\n\n    .dataframe tbody tr th {\n        vertical-align: top;\n    }\n\n    .dataframe thead th {\n        text-align: right;\n    }\n</style>\n<table border=\"1\" class=\"dataframe\">\n  <thead>\n    <tr style=\"text-align: right;\">\n      <th></th>\n      <th>1.id</th>\n      <th>2.Daerah</th>\n      <th>3.SumbuUtama</th>\n      <th>4.SumbuKecil</th>\n      <th>5.Keunikan</th>\n      <th>6.AreaBulatan</th>\n      <th>7.Diameter</th>\n      <th>8.KadarAir</th>\n      <th>9.Keliling</th>\n      <th>10.Bulatan</th>\n      <th>11.Ransum</th>\n      <th>12.Kelas</th>\n    </tr>\n  </thead>\n  <tbody>\n    <tr>\n      <td>250</td>\n      <td>251</td>\n      <td>2872</td>\n      <td>74.691881</td>\n      <td>51.400454</td>\n      <td>0.725553</td>\n      <td>3015</td>\n      <td>60.471018</td>\n      <td>0.713009</td>\n      <td>208.317</td>\n      <td>0.831658</td>\n      <td>1.453137</td>\n      <td>2</td>\n    </tr>\n    <tr>\n      <td>251</td>\n      <td>252</td>\n      <td>3048</td>\n      <td>76.293164</td>\n      <td>52.043491</td>\n      <td>0.731211</td>\n      <td>3132</td>\n      <td>62.296341</td>\n      <td>0.759153</td>\n      <td>210.012</td>\n      <td>0.868434</td>\n      <td>1.465950</td>\n      <td>2</td>\n    </tr>\n    <tr>\n      <td>252</td>\n      <td>253</td>\n      <td>3073</td>\n      <td>77.033628</td>\n      <td>51.928487</td>\n      <td>0.738639</td>\n      <td>3157</td>\n      <td>62.551300</td>\n      <td>0.783529</td>\n      <td>210.657</td>\n      <td>0.870203</td>\n      <td>1.483456</td>\n      <td>2</td>\n    </tr>\n    <tr>\n      <td>253</td>\n      <td>254</td>\n      <td>3693</td>\n      <td>85.124785</td>\n      <td>56.374021</td>\n      <td>0.749282</td>\n      <td>3802</td>\n      <td>68.571668</td>\n      <td>0.769375</td>\n      <td>230.332</td>\n      <td>0.874743</td>\n      <td>1.510000</td>\n      <td>2</td>\n    </tr>\n    <tr>\n      <td>254</td>\n      <td>255</td>\n      <td>2990</td>\n      <td>77.417073</td>\n      <td>50.954344</td>\n      <td>0.752861</td>\n      <td>3080</td>\n      <td>61.700780</td>\n      <td>0.584898</td>\n      <td>216.930</td>\n      <td>0.798439</td>\n      <td>1.519342</td>\n      <td>2</td>\n    </tr>\n    <tr>\n      <td>...</td>\n      <td>...</td>\n      <td>...</td>\n      <td>...</td>\n      <td>...</td>\n      <td>...</td>\n      <td>...</td>\n      <td>...</td>\n      <td>...</td>\n      <td>...</td>\n      <td>...</td>\n      <td>...</td>\n      <td>...</td>\n    </tr>\n    <tr>\n      <td>495</td>\n      <td>496</td>\n      <td>5083</td>\n      <td>120.083450</td>\n      <td>54.821580</td>\n      <td>0.889709</td>\n      <td>5179</td>\n      <td>80.447975</td>\n      <td>0.534827</td>\n      <td>286.377</td>\n      <td>0.778850</td>\n      <td>2.190441</td>\n      <td>2</td>\n    </tr>\n    <tr>\n      <td>496</td>\n      <td>497</td>\n      <td>4432</td>\n      <td>112.367050</td>\n      <td>51.294914</td>\n      <td>0.889726</td>\n      <td>4550</td>\n      <td>75.119889</td>\n      <td>0.601194</td>\n      <td>270.823</td>\n      <td>0.759344</td>\n      <td>2.190608</td>\n      <td>2</td>\n    </tr>\n    <tr>\n      <td>497</td>\n      <td>498</td>\n      <td>5020</td>\n      <td>119.873742</td>\n      <td>54.718545</td>\n      <td>0.889740</td>\n      <td>5104</td>\n      <td>79.947874</td>\n      <td>0.528421</td>\n      <td>285.799</td>\n      <td>0.772311</td>\n      <td>2.190733</td>\n      <td>2</td>\n    </tr>\n    <tr>\n      <td>498</td>\n      <td>499</td>\n      <td>4035</td>\n      <td>107.311728</td>\n      <td>48.930802</td>\n      <td>0.889996</td>\n      <td>4150</td>\n      <td>71.676506</td>\n      <td>0.584698</td>\n      <td>258.503</td>\n      <td>0.758791</td>\n      <td>2.193132</td>\n      <td>2</td>\n    </tr>\n    <tr>\n      <td>499</td>\n      <td>500</td>\n      <td>3379</td>\n      <td>99.014789</td>\n      <td>44.631551</td>\n      <td>0.892647</td>\n      <td>3491</td>\n      <td>65.591741</td>\n      <td>0.653578</td>\n      <td>237.593</td>\n      <td>0.752196</td>\n      <td>2.218493</td>\n      <td>2</td>\n    </tr>\n  </tbody>\n</table>\n<p>250 rows × 12 columns</p>\n</div>"
     },
     "metadata": {},
     "execution_count": 67
    }
   ],
   "source": [
    "# 5a\n",
    "df2"
   ]
  }
 ],
 "metadata": {
  "kernelspec": {
   "name": "python374jvsc74a57bd05f292722d6d50c2426abae6fd15a85386b49c5393ec98f1c35f79e4e4dd7448b",
   "display_name": "Python 3.7.4 64-bit ('base': conda)"
  },
  "language_info": {
   "codemirror_mode": {
    "name": "ipython",
    "version": 3
   },
   "file_extension": ".py",
   "mimetype": "text/x-python",
   "name": "python",
   "nbconvert_exporter": "python",
   "pygments_lexer": "ipython3",
   "version": "3.7.4"
  }
 },
 "nbformat": 4,
 "nbformat_minor": 4
}